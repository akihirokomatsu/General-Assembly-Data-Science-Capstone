{
 "cells": [
  {
   "cell_type": "code",
   "execution_count": 9,
   "id": "8bd6ed0a",
   "metadata": {},
   "outputs": [],
   "source": [
    "import pandas as pd\n",
    "import numpy as np\n",
    "import seaborn as sns\n",
    "import matplotlib.pyplot as plt\n",
    "%matplotlib inline\n",
    "from sklearn.linear_model import LogisticRegression\n",
    "from sklearn.model_selection import train_test_split\n",
    "from sklearn import linear_model, model_selection, metrics\n",
    "from sklearn.model_selection import cross_val_score"
   ]
  },
  {
   "cell_type": "code",
   "execution_count": 10,
   "id": "30d13e4d",
   "metadata": {},
   "outputs": [
    {
     "name": "stdout",
     "output_type": "stream",
     "text": [
      "Index(['Unnamed: 0', 'msno', 'is_churn', 'city_churn_avg',\n",
      "       'registered_via_churn_avg', 'avg_payment_plan_days',\n",
      "       'avg_plan_list_price', 'avg_actual_amount_paid', 'pct_is_auto_renew',\n",
      "       'pct_is_cancel', 'total_transactions', 'is_cancel', 'is_auto_renew',\n",
      "       'pay_method_id_churn_avg', 'Unnamed: 0.1', 'total_num_unq',\n",
      "       'total_total_secs', 'daily_avg_num_25', 'daily_avg_num_50',\n",
      "       'daily_avg_num_75', 'daily_avg_num_985', 'daily_avg_num_100',\n",
      "       'daily_avg_num_unq', 'daily_avg_total_secs', 'tier',\n",
      "       'high_cancel_high_usage'],\n",
      "      dtype='object')\n"
     ]
    }
   ],
   "source": [
    "# Read in csv file\n",
    "train_master = pd.read_csv('./train_master.csv').sample(10000)\n",
    "pd.options.display.max_columns = None\n",
    "\n",
    "# show columns \n",
    "print(train_master.columns)"
   ]
  },
  {
   "cell_type": "code",
   "execution_count": 11,
   "id": "b0092302",
   "metadata": {},
   "outputs": [
    {
     "data": {
      "text/plain": [
       "(10000, 26)"
      ]
     },
     "execution_count": 11,
     "metadata": {},
     "output_type": "execute_result"
    }
   ],
   "source": [
    "train_master.shape"
   ]
  },
  {
   "cell_type": "code",
   "execution_count": 12,
   "id": "e61a639f",
   "metadata": {},
   "outputs": [],
   "source": [
    "train_master_no_nulls = train_master.dropna()"
   ]
  },
  {
   "cell_type": "code",
   "execution_count": 13,
   "id": "06c22127",
   "metadata": {},
   "outputs": [
    {
     "data": {
      "text/plain": [
       "(8632, 26)"
      ]
     },
     "execution_count": 13,
     "metadata": {},
     "output_type": "execute_result"
    }
   ],
   "source": [
    "train_master_no_nulls.shape"
   ]
  },
  {
   "cell_type": "code",
   "execution_count": 14,
   "id": "fc51d391",
   "metadata": {},
   "outputs": [],
   "source": [
    "# set up list of features\n",
    "feature_cols = [\n",
    "       'avg_plan_list_price', 'pct_is_auto_renew',\n",
    "       'pct_is_cancel', 'high_cancel_high_usage']"
   ]
  },
  {
   "cell_type": "code",
   "execution_count": 15,
   "id": "6336ef6a",
   "metadata": {},
   "outputs": [],
   "source": [
    "# set up x and y variables\n",
    "y = train_master_no_nulls.is_churn\n",
    "X = train_master_no_nulls[feature_cols]"
   ]
  },
  {
   "cell_type": "code",
   "execution_count": 16,
   "id": "16e4370a",
   "metadata": {},
   "outputs": [],
   "source": [
    "# good practice to standardize! \n",
    "from sklearn.preprocessing import StandardScaler\n",
    "ss = StandardScaler()\n",
    "Xs = ss.fit_transform(X)"
   ]
  },
  {
   "cell_type": "code",
   "execution_count": 17,
   "id": "87e0ec79",
   "metadata": {},
   "outputs": [
    {
     "name": "stdout",
     "output_type": "stream",
     "text": [
      "[-0.14089367 -0.12386238 -0.13542446 -0.13184732 -0.12942561 -0.14194131\n",
      " -0.13529196 -0.14572506 -0.13209629 -0.14263246]\n",
      "-0.1359140506090466\n"
     ]
    }
   ],
   "source": [
    "# instantiate logistic model\n",
    "lr = LogisticRegression()\n",
    "\n",
    "neglogloss = cross_val_score(lr, Xs, y, cv=10,scoring='neg_log_loss')\n",
    "print (neglogloss)\n",
    "print (cross_val_score(lr, Xs, y, cv=10,scoring='neg_log_loss').mean())"
   ]
  },
  {
   "cell_type": "code",
   "execution_count": 18,
   "id": "14967ea4",
   "metadata": {},
   "outputs": [
    {
     "name": "stdout",
     "output_type": "stream",
     "text": [
      "[0.9537037  0.96064815 0.9571263  0.96292005 0.95828505 0.95480881\n",
      " 0.95828505 0.95249131 0.9594438  0.95596756]\n",
      "0.9573679777691945\n"
     ]
    }
   ],
   "source": [
    "accuaracy = cross_val_score(lr, Xs, y, cv=10,scoring='accuracy')\n",
    "print (accuaracy)\n",
    "print (cross_val_score(lr, Xs, y, cv=10,scoring='accuracy').mean())"
   ]
  },
  {
   "cell_type": "code",
   "execution_count": 35,
   "id": "0ef184d0",
   "metadata": {},
   "outputs": [
    {
     "name": "stdout",
     "output_type": "stream",
     "text": [
      "0.9585264133456904\n"
     ]
    },
    {
     "data": {
      "text/plain": [
       "0.041473586654309544"
      ]
     },
     "execution_count": 35,
     "metadata": {},
     "output_type": "execute_result"
    }
   ],
   "source": [
    "\n",
    "# compare against baseline, if the average non-churn rate was predicted\n",
    "\n",
    "print(1 - np.mean(y))\n",
    "np.mean(y)"
   ]
  },
  {
   "cell_type": "code",
   "execution_count": 27,
   "id": "5c7285d7",
   "metadata": {},
   "outputs": [
    {
     "name": "stderr",
     "output_type": "stream",
     "text": [
      "<ipython-input-27-150fb5037265>:1: SettingWithCopyWarning: \n",
      "A value is trying to be set on a copy of a slice from a DataFrame.\n",
      "Try using .loc[row_indexer,col_indexer] = value instead\n",
      "\n",
      "See the caveats in the documentation: https://pandas.pydata.org/pandas-docs/stable/user_guide/indexing.html#returning-a-view-versus-a-copy\n",
      "  X['baseline'] = 0\n"
     ]
    }
   ],
   "source": [
    "X['baseline'] = 0"
   ]
  },
  {
   "cell_type": "code",
   "execution_count": 30,
   "id": "00d62546",
   "metadata": {},
   "outputs": [],
   "source": [
    "from sklearn.metrics import log_loss\n",
    "\n",
    "def calculate_log_loss(class_ratio,multi=10000):\n",
    "    \n",
    "    if sum(class_ratio)!=1.0:\n",
    "        print(\"warning: Sum of ratios should be 1 for best results\")\n",
    "        class_ratio[-1]+=1-sum(class_ratio)  # add the residual to last class's ratio\n",
    "    \n",
    "    actuals=[]\n",
    "    for i,val in enumerate(class_ratio):\n",
    "        actuals=actuals+[i for x in range(int(val*multi))]\n",
    "        \n",
    "\n",
    "    preds=[]\n",
    "    for i in range(multi):\n",
    "        preds+=[class_ratio]\n",
    "\n",
    "    return (log_loss(actuals, preds))"
   ]
  },
  {
   "cell_type": "code",
   "execution_count": 39,
   "id": "09364345",
   "metadata": {},
   "outputs": [
    {
     "data": {
      "text/plain": [
       "-0.167944147734173"
      ]
     },
     "execution_count": 39,
     "metadata": {},
     "output_type": "execute_result"
    }
   ],
   "source": [
    "logloss=calculate_log_loss([0.04,0.96],multi=100)\n",
    "-logloss"
   ]
  },
  {
   "cell_type": "code",
   "execution_count": 40,
   "id": "3d3e04e7",
   "metadata": {},
   "outputs": [
    {
     "name": "stdout",
     "output_type": "stream",
     "text": [
      "Feature: 0, Score: 0.03641\n",
      "Feature: 1, Score: -0.86161\n",
      "Feature: 2, Score: 0.40111\n",
      "Feature: 3, Score: -0.82437\n"
     ]
    },
    {
     "data": {
      "image/png": "[encoded data removed]",
      "text/plain": [
       "<Figure size 432x288 with 1 Axes>"
      ]
     },
     "metadata": {
      "needs_background": "light"
     },
     "output_type": "display_data"
    }
   ],
   "source": [
    "from sklearn.datasets import make_classification\n",
    "from sklearn.linear_model import LogisticRegression\n",
    "from matplotlib import pyplot\n",
    "# define the model\n",
    "model = LogisticRegression()\n",
    "# fit the model\n",
    "model.fit(Xs, y)\n",
    "# get importance\n",
    "importance = model.coef_[0]\n",
    "# summarize feature importance\n",
    "for i,v in enumerate(importance):\n",
    "    print('Feature: %0d, Score: %.5f' % (i,v))\n",
    "# plot feature importance\n",
    "pyplot.bar([x for x in range(len(importance))], importance)\n",
    "pyplot.show()"
   ]
  },
  {
   "cell_type": "code",
   "execution_count": null,
   "id": "9c3d4831",
   "metadata": {},
   "outputs": [],
   "source": [
    "# set up list of features\n",
    "feature_cols = [\n",
    "       'avg_plan_list_price', 'pct_is_auto_renew',\n",
    "       'pct_is_cancel', 'high_cancel_high_usage']"
   ]
  }
 ],
 "metadata": {
  "kernelspec": {
   "display_name": "Python 3",
   "language": "python",
   "name": "python3"
  },
  "language_info": {
   "codemirror_mode": {
    "name": "ipython",
    "version": 3
   },
   "file_extension": ".py",
   "mimetype": "text/x-python",
   "name": "python",
   "nbconvert_exporter": "python",
   "pygments_lexer": "ipython3",
   "version": "3.8.8"
  }
 },
 "nbformat": 4,
 "nbformat_minor": 5
}
