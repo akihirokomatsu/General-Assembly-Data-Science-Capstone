{
 "cells": [
  {
   "cell_type": "code",
   "execution_count": 1,
   "id": "d8e7559f",
   "metadata": {},
   "outputs": [],
   "source": [
    "import pandas as pd\n",
    "import seaborn as sns\n",
    "import numpy as np\n",
    "import matplotlib.pyplot as plt\n",
    "%matplotlib inline\n",
    "\n",
    "from sklearn.metrics import classification_report, confusion_matrix\n",
    "from sklearn.model_selection import train_test_split"
   ]
  },
  {
   "cell_type": "code",
   "execution_count": 2,
   "id": "2a2e2666",
   "metadata": {},
   "outputs": [],
   "source": [
    "# Read in csv file\n",
    "train_master = pd.read_csv('./train_master.csv')\n",
    "pd.options.display.max_columns = None"
   ]
  },
  {
   "cell_type": "code",
   "execution_count": 3,
   "id": "420f8212",
   "metadata": {
    "scrolled": true
   },
   "outputs": [
    {
     "data": {
      "text/html": [
       "<div>\n",
       "<style scoped>\n",
       "    .dataframe tbody tr th:only-of-type {\n",
       "        vertical-align: middle;\n",
       "    }\n",
       "\n",
       "    .dataframe tbody tr th {\n",
       "        vertical-align: top;\n",
       "    }\n",
       "\n",
       "    .dataframe thead th {\n",
       "        text-align: right;\n",
       "    }\n",
       "</style>\n",
       "<table border=\"1\" class=\"dataframe\">\n",
       "  <thead>\n",
       "    <tr style=\"text-align: right;\">\n",
       "      <th></th>\n",
       "      <th>Unnamed: 0</th>\n",
       "      <th>msno</th>\n",
       "      <th>is_churn</th>\n",
       "      <th>city_churn_avg</th>\n",
       "      <th>registered_via_churn_avg</th>\n",
       "      <th>avg_payment_plan_days</th>\n",
       "      <th>avg_plan_list_price</th>\n",
       "      <th>avg_actual_amount_paid</th>\n",
       "      <th>pct_is_auto_renew</th>\n",
       "      <th>pct_is_cancel</th>\n",
       "      <th>total_transactions</th>\n",
       "      <th>is_cancel</th>\n",
       "      <th>is_auto_renew</th>\n",
       "      <th>pay_method_id_churn_avg</th>\n",
       "      <th>Unnamed: 0.1</th>\n",
       "      <th>total_num_unq</th>\n",
       "      <th>total_total_secs</th>\n",
       "      <th>daily_avg_num_25</th>\n",
       "      <th>daily_avg_num_50</th>\n",
       "      <th>daily_avg_num_75</th>\n",
       "      <th>daily_avg_num_985</th>\n",
       "      <th>daily_avg_num_100</th>\n",
       "      <th>daily_avg_num_unq</th>\n",
       "      <th>daily_avg_total_secs</th>\n",
       "      <th>tier</th>\n",
       "    </tr>\n",
       "  </thead>\n",
       "  <tbody>\n",
       "    <tr>\n",
       "      <th>15304443</th>\n",
       "      <td>15304443</td>\n",
       "      <td>/IXsOxKGMdBDReIpiq2bwHpkyd7kC5AuQcil+ik85x4=</td>\n",
       "      <td>0</td>\n",
       "      <td>0.048411</td>\n",
       "      <td>0.030160</td>\n",
       "      <td>30.000000</td>\n",
       "      <td>148.210526</td>\n",
       "      <td>141.894737</td>\n",
       "      <td>1.000000</td>\n",
       "      <td>0.026316</td>\n",
       "      <td>38</td>\n",
       "      <td>1</td>\n",
       "      <td>38</td>\n",
       "      <td>0.031462</td>\n",
       "      <td>62319.0</td>\n",
       "      <td>1222.0</td>\n",
       "      <td>2.336340e+05</td>\n",
       "      <td>2.849624</td>\n",
       "      <td>0.473684</td>\n",
       "      <td>0.263158</td>\n",
       "      <td>0.338346</td>\n",
       "      <td>6.796992</td>\n",
       "      <td>9.187970</td>\n",
       "      <td>1756.646782</td>\n",
       "      <td>50_75</td>\n",
       "    </tr>\n",
       "    <tr>\n",
       "      <th>1410548</th>\n",
       "      <td>1410548</td>\n",
       "      <td>xL8+B7LzmMb4F18NTa+ipQQNWQ8UVvnp4HXTB7l9Khw=</td>\n",
       "      <td>0</td>\n",
       "      <td>0.088935</td>\n",
       "      <td>0.086362</td>\n",
       "      <td>21.818182</td>\n",
       "      <td>108.363636</td>\n",
       "      <td>149.000000</td>\n",
       "      <td>1.000000</td>\n",
       "      <td>0.000000</td>\n",
       "      <td>22</td>\n",
       "      <td>0</td>\n",
       "      <td>22</td>\n",
       "      <td>0.026189</td>\n",
       "      <td>2888857.0</td>\n",
       "      <td>1815.0</td>\n",
       "      <td>1.408970e+06</td>\n",
       "      <td>2.352201</td>\n",
       "      <td>1.314465</td>\n",
       "      <td>0.622642</td>\n",
       "      <td>0.591195</td>\n",
       "      <td>32.540881</td>\n",
       "      <td>11.415094</td>\n",
       "      <td>8861.444453</td>\n",
       "      <td>top_75</td>\n",
       "    </tr>\n",
       "    <tr>\n",
       "      <th>8282061</th>\n",
       "      <td>8282061</td>\n",
       "      <td>FJbshmdpBOvhk8l4YhWdw3YbFPSn85eTbYZgSVwPbsw=</td>\n",
       "      <td>0</td>\n",
       "      <td>0.086043</td>\n",
       "      <td>0.086362</td>\n",
       "      <td>28.761905</td>\n",
       "      <td>141.904762</td>\n",
       "      <td>149.000000</td>\n",
       "      <td>1.000000</td>\n",
       "      <td>0.047619</td>\n",
       "      <td>21</td>\n",
       "      <td>1</td>\n",
       "      <td>21</td>\n",
       "      <td>0.041923</td>\n",
       "      <td>814699.0</td>\n",
       "      <td>1020.0</td>\n",
       "      <td>3.231381e+05</td>\n",
       "      <td>3.424658</td>\n",
       "      <td>1.054795</td>\n",
       "      <td>0.643836</td>\n",
       "      <td>0.767123</td>\n",
       "      <td>16.671233</td>\n",
       "      <td>13.972603</td>\n",
       "      <td>4426.549753</td>\n",
       "      <td>50_75</td>\n",
       "    </tr>\n",
       "    <tr>\n",
       "      <th>9479927</th>\n",
       "      <td>9479927</td>\n",
       "      <td>pszd2IfdvAxq3r+gpqddSLcdyadvjtwFzO1REBDNqPE=</td>\n",
       "      <td>0</td>\n",
       "      <td>0.048411</td>\n",
       "      <td>0.030160</td>\n",
       "      <td>30.000000</td>\n",
       "      <td>99.000000</td>\n",
       "      <td>99.000000</td>\n",
       "      <td>1.000000</td>\n",
       "      <td>0.000000</td>\n",
       "      <td>18</td>\n",
       "      <td>0</td>\n",
       "      <td>18</td>\n",
       "      <td>0.031462</td>\n",
       "      <td>2537499.0</td>\n",
       "      <td>61.0</td>\n",
       "      <td>3.937526e+04</td>\n",
       "      <td>1.733333</td>\n",
       "      <td>0.133333</td>\n",
       "      <td>0.000000</td>\n",
       "      <td>0.200000</td>\n",
       "      <td>11.533333</td>\n",
       "      <td>4.066667</td>\n",
       "      <td>2625.017133</td>\n",
       "      <td>25_50</td>\n",
       "    </tr>\n",
       "    <tr>\n",
       "      <th>6724312</th>\n",
       "      <td>6724312</td>\n",
       "      <td>8PZsxw7kC5WmlnZdI74DxyTPQQHF8IVzi2lxNdU81mg=</td>\n",
       "      <td>0</td>\n",
       "      <td>0.078445</td>\n",
       "      <td>0.030160</td>\n",
       "      <td>30.000000</td>\n",
       "      <td>149.000000</td>\n",
       "      <td>149.000000</td>\n",
       "      <td>1.000000</td>\n",
       "      <td>0.000000</td>\n",
       "      <td>26</td>\n",
       "      <td>0</td>\n",
       "      <td>26</td>\n",
       "      <td>0.031462</td>\n",
       "      <td>490935.0</td>\n",
       "      <td>14002.0</td>\n",
       "      <td>4.000137e+06</td>\n",
       "      <td>2.660819</td>\n",
       "      <td>0.830409</td>\n",
       "      <td>0.461988</td>\n",
       "      <td>0.415205</td>\n",
       "      <td>93.760234</td>\n",
       "      <td>81.883041</td>\n",
       "      <td>23392.615520</td>\n",
       "      <td>top_75</td>\n",
       "    </tr>\n",
       "    <tr>\n",
       "      <th>...</th>\n",
       "      <td>...</td>\n",
       "      <td>...</td>\n",
       "      <td>...</td>\n",
       "      <td>...</td>\n",
       "      <td>...</td>\n",
       "      <td>...</td>\n",
       "      <td>...</td>\n",
       "      <td>...</td>\n",
       "      <td>...</td>\n",
       "      <td>...</td>\n",
       "      <td>...</td>\n",
       "      <td>...</td>\n",
       "      <td>...</td>\n",
       "      <td>...</td>\n",
       "      <td>...</td>\n",
       "      <td>...</td>\n",
       "      <td>...</td>\n",
       "      <td>...</td>\n",
       "      <td>...</td>\n",
       "      <td>...</td>\n",
       "      <td>...</td>\n",
       "      <td>...</td>\n",
       "      <td>...</td>\n",
       "      <td>...</td>\n",
       "      <td>...</td>\n",
       "    </tr>\n",
       "    <tr>\n",
       "      <th>3580035</th>\n",
       "      <td>3580035</td>\n",
       "      <td>cs38v1oFVxEvo3A+vF1L8Scq4kpTtxgSEBf6aPL4Wdw=</td>\n",
       "      <td>0</td>\n",
       "      <td>0.100832</td>\n",
       "      <td>0.086362</td>\n",
       "      <td>22.173913</td>\n",
       "      <td>114.173913</td>\n",
       "      <td>153.043478</td>\n",
       "      <td>0.956522</td>\n",
       "      <td>0.086957</td>\n",
       "      <td>23</td>\n",
       "      <td>2</td>\n",
       "      <td>22</td>\n",
       "      <td>0.010315</td>\n",
       "      <td>1923847.0</td>\n",
       "      <td>5153.0</td>\n",
       "      <td>1.184203e+06</td>\n",
       "      <td>6.235043</td>\n",
       "      <td>2.807692</td>\n",
       "      <td>1.521368</td>\n",
       "      <td>1.132479</td>\n",
       "      <td>17.000000</td>\n",
       "      <td>22.021368</td>\n",
       "      <td>5060.694491</td>\n",
       "      <td>top_75</td>\n",
       "    </tr>\n",
       "    <tr>\n",
       "      <th>4472291</th>\n",
       "      <td>4472291</td>\n",
       "      <td>b9ioUm7E8xgtqueOJn7fORb0HaCSn7/rAC6HbW25PZg=</td>\n",
       "      <td>0</td>\n",
       "      <td>0.048411</td>\n",
       "      <td>0.086362</td>\n",
       "      <td>30.000000</td>\n",
       "      <td>149.000000</td>\n",
       "      <td>149.000000</td>\n",
       "      <td>0.000000</td>\n",
       "      <td>0.000000</td>\n",
       "      <td>13</td>\n",
       "      <td>0</td>\n",
       "      <td>0</td>\n",
       "      <td>0.196290</td>\n",
       "      <td>1844266.0</td>\n",
       "      <td>6821.0</td>\n",
       "      <td>2.062192e+06</td>\n",
       "      <td>12.705882</td>\n",
       "      <td>5.758170</td>\n",
       "      <td>3.516340</td>\n",
       "      <td>3.797386</td>\n",
       "      <td>47.111111</td>\n",
       "      <td>44.581699</td>\n",
       "      <td>13478.378850</td>\n",
       "      <td>top_75</td>\n",
       "    </tr>\n",
       "    <tr>\n",
       "      <th>5729414</th>\n",
       "      <td>5729414</td>\n",
       "      <td>Vn+c3043UCl99ig/jFKHNCipt0flb95q1L7zt1x4wCk=</td>\n",
       "      <td>0</td>\n",
       "      <td>0.048411</td>\n",
       "      <td>0.030160</td>\n",
       "      <td>28.846154</td>\n",
       "      <td>143.269231</td>\n",
       "      <td>149.000000</td>\n",
       "      <td>1.000000</td>\n",
       "      <td>0.000000</td>\n",
       "      <td>26</td>\n",
       "      <td>0</td>\n",
       "      <td>26</td>\n",
       "      <td>0.031462</td>\n",
       "      <td>1590673.0</td>\n",
       "      <td>25923.0</td>\n",
       "      <td>1.041413e+07</td>\n",
       "      <td>6.168627</td>\n",
       "      <td>1.125490</td>\n",
       "      <td>0.980392</td>\n",
       "      <td>1.078431</td>\n",
       "      <td>176.262745</td>\n",
       "      <td>101.658824</td>\n",
       "      <td>40839.737925</td>\n",
       "      <td>top_75</td>\n",
       "    </tr>\n",
       "    <tr>\n",
       "      <th>11398382</th>\n",
       "      <td>11398382</td>\n",
       "      <td>m63tQjWqqFWRCzzOQTJ5M5tHng7suxM1ZLBgppOu1cI=</td>\n",
       "      <td>0</td>\n",
       "      <td>0.078733</td>\n",
       "      <td>0.182558</td>\n",
       "      <td>30.000000</td>\n",
       "      <td>154.166667</td>\n",
       "      <td>154.166667</td>\n",
       "      <td>0.833333</td>\n",
       "      <td>0.000000</td>\n",
       "      <td>6</td>\n",
       "      <td>0</td>\n",
       "      <td>5</td>\n",
       "      <td>0.136358</td>\n",
       "      <td>2360187.0</td>\n",
       "      <td>1612.0</td>\n",
       "      <td>2.254820e+05</td>\n",
       "      <td>13.238095</td>\n",
       "      <td>3.158730</td>\n",
       "      <td>1.269841</td>\n",
       "      <td>1.365079</td>\n",
       "      <td>10.476190</td>\n",
       "      <td>25.587302</td>\n",
       "      <td>3579.078921</td>\n",
       "      <td>top_75</td>\n",
       "    </tr>\n",
       "    <tr>\n",
       "      <th>131559</th>\n",
       "      <td>131559</td>\n",
       "      <td>CSj4RPmaxBWg26v5TJnx/6wz/RSS+R3sTyhFwIHBXp0=</td>\n",
       "      <td>1</td>\n",
       "      <td>0.048411</td>\n",
       "      <td>0.030160</td>\n",
       "      <td>30.000000</td>\n",
       "      <td>99.000000</td>\n",
       "      <td>99.000000</td>\n",
       "      <td>1.000000</td>\n",
       "      <td>0.071429</td>\n",
       "      <td>14</td>\n",
       "      <td>1</td>\n",
       "      <td>14</td>\n",
       "      <td>0.031462</td>\n",
       "      <td>680830.0</td>\n",
       "      <td>667.0</td>\n",
       "      <td>1.596975e+05</td>\n",
       "      <td>1.277778</td>\n",
       "      <td>0.722222</td>\n",
       "      <td>0.500000</td>\n",
       "      <td>0.222222</td>\n",
       "      <td>35.333333</td>\n",
       "      <td>37.055556</td>\n",
       "      <td>8872.084444</td>\n",
       "      <td>50_75</td>\n",
       "    </tr>\n",
       "  </tbody>\n",
       "</table>\n",
       "<p>100000 rows × 25 columns</p>\n",
       "</div>"
      ],
      "text/plain": [
       "          Unnamed: 0                                          msno  is_churn  \\\n",
       "15304443    15304443  /IXsOxKGMdBDReIpiq2bwHpkyd7kC5AuQcil+ik85x4=         0   \n",
       "1410548      1410548  xL8+B7LzmMb4F18NTa+ipQQNWQ8UVvnp4HXTB7l9Khw=         0   \n",
       "8282061      8282061  FJbshmdpBOvhk8l4YhWdw3YbFPSn85eTbYZgSVwPbsw=         0   \n",
       "9479927      9479927  pszd2IfdvAxq3r+gpqddSLcdyadvjtwFzO1REBDNqPE=         0   \n",
       "6724312      6724312  8PZsxw7kC5WmlnZdI74DxyTPQQHF8IVzi2lxNdU81mg=         0   \n",
       "...              ...                                           ...       ...   \n",
       "3580035      3580035  cs38v1oFVxEvo3A+vF1L8Scq4kpTtxgSEBf6aPL4Wdw=         0   \n",
       "4472291      4472291  b9ioUm7E8xgtqueOJn7fORb0HaCSn7/rAC6HbW25PZg=         0   \n",
       "5729414      5729414  Vn+c3043UCl99ig/jFKHNCipt0flb95q1L7zt1x4wCk=         0   \n",
       "11398382    11398382  m63tQjWqqFWRCzzOQTJ5M5tHng7suxM1ZLBgppOu1cI=         0   \n",
       "131559        131559  CSj4RPmaxBWg26v5TJnx/6wz/RSS+R3sTyhFwIHBXp0=         1   \n",
       "\n",
       "          city_churn_avg  registered_via_churn_avg  avg_payment_plan_days  \\\n",
       "15304443        0.048411                  0.030160              30.000000   \n",
       "1410548         0.088935                  0.086362              21.818182   \n",
       "8282061         0.086043                  0.086362              28.761905   \n",
       "9479927         0.048411                  0.030160              30.000000   \n",
       "6724312         0.078445                  0.030160              30.000000   \n",
       "...                  ...                       ...                    ...   \n",
       "3580035         0.100832                  0.086362              22.173913   \n",
       "4472291         0.048411                  0.086362              30.000000   \n",
       "5729414         0.048411                  0.030160              28.846154   \n",
       "11398382        0.078733                  0.182558              30.000000   \n",
       "131559          0.048411                  0.030160              30.000000   \n",
       "\n",
       "          avg_plan_list_price  avg_actual_amount_paid  pct_is_auto_renew  \\\n",
       "15304443           148.210526              141.894737           1.000000   \n",
       "1410548            108.363636              149.000000           1.000000   \n",
       "8282061            141.904762              149.000000           1.000000   \n",
       "9479927             99.000000               99.000000           1.000000   \n",
       "6724312            149.000000              149.000000           1.000000   \n",
       "...                       ...                     ...                ...   \n",
       "3580035            114.173913              153.043478           0.956522   \n",
       "4472291            149.000000              149.000000           0.000000   \n",
       "5729414            143.269231              149.000000           1.000000   \n",
       "11398382           154.166667              154.166667           0.833333   \n",
       "131559              99.000000               99.000000           1.000000   \n",
       "\n",
       "          pct_is_cancel  total_transactions  is_cancel  is_auto_renew  \\\n",
       "15304443       0.026316                  38          1             38   \n",
       "1410548        0.000000                  22          0             22   \n",
       "8282061        0.047619                  21          1             21   \n",
       "9479927        0.000000                  18          0             18   \n",
       "6724312        0.000000                  26          0             26   \n",
       "...                 ...                 ...        ...            ...   \n",
       "3580035        0.086957                  23          2             22   \n",
       "4472291        0.000000                  13          0              0   \n",
       "5729414        0.000000                  26          0             26   \n",
       "11398382       0.000000                   6          0              5   \n",
       "131559         0.071429                  14          1             14   \n",
       "\n",
       "          pay_method_id_churn_avg  Unnamed: 0.1  total_num_unq  \\\n",
       "15304443                 0.031462       62319.0         1222.0   \n",
       "1410548                  0.026189     2888857.0         1815.0   \n",
       "8282061                  0.041923      814699.0         1020.0   \n",
       "9479927                  0.031462     2537499.0           61.0   \n",
       "6724312                  0.031462      490935.0        14002.0   \n",
       "...                           ...           ...            ...   \n",
       "3580035                  0.010315     1923847.0         5153.0   \n",
       "4472291                  0.196290     1844266.0         6821.0   \n",
       "5729414                  0.031462     1590673.0        25923.0   \n",
       "11398382                 0.136358     2360187.0         1612.0   \n",
       "131559                   0.031462      680830.0          667.0   \n",
       "\n",
       "          total_total_secs  daily_avg_num_25  daily_avg_num_50  \\\n",
       "15304443      2.336340e+05          2.849624          0.473684   \n",
       "1410548       1.408970e+06          2.352201          1.314465   \n",
       "8282061       3.231381e+05          3.424658          1.054795   \n",
       "9479927       3.937526e+04          1.733333          0.133333   \n",
       "6724312       4.000137e+06          2.660819          0.830409   \n",
       "...                    ...               ...               ...   \n",
       "3580035       1.184203e+06          6.235043          2.807692   \n",
       "4472291       2.062192e+06         12.705882          5.758170   \n",
       "5729414       1.041413e+07          6.168627          1.125490   \n",
       "11398382      2.254820e+05         13.238095          3.158730   \n",
       "131559        1.596975e+05          1.277778          0.722222   \n",
       "\n",
       "          daily_avg_num_75  daily_avg_num_985  daily_avg_num_100  \\\n",
       "15304443          0.263158           0.338346           6.796992   \n",
       "1410548           0.622642           0.591195          32.540881   \n",
       "8282061           0.643836           0.767123          16.671233   \n",
       "9479927           0.000000           0.200000          11.533333   \n",
       "6724312           0.461988           0.415205          93.760234   \n",
       "...                    ...                ...                ...   \n",
       "3580035           1.521368           1.132479          17.000000   \n",
       "4472291           3.516340           3.797386          47.111111   \n",
       "5729414           0.980392           1.078431         176.262745   \n",
       "11398382          1.269841           1.365079          10.476190   \n",
       "131559            0.500000           0.222222          35.333333   \n",
       "\n",
       "          daily_avg_num_unq  daily_avg_total_secs    tier  \n",
       "15304443           9.187970           1756.646782   50_75  \n",
       "1410548           11.415094           8861.444453  top_75  \n",
       "8282061           13.972603           4426.549753   50_75  \n",
       "9479927            4.066667           2625.017133   25_50  \n",
       "6724312           81.883041          23392.615520  top_75  \n",
       "...                     ...                   ...     ...  \n",
       "3580035           22.021368           5060.694491  top_75  \n",
       "4472291           44.581699          13478.378850  top_75  \n",
       "5729414          101.658824          40839.737925  top_75  \n",
       "11398382          25.587302           3579.078921  top_75  \n",
       "131559            37.055556           8872.084444   50_75  \n",
       "\n",
       "[100000 rows x 25 columns]"
      ]
     },
     "execution_count": 3,
     "metadata": {},
     "output_type": "execute_result"
    }
   ],
   "source": [
    "# sample and print the master training dataset\n",
    "train_master = train_master.sample(n=100000)\n",
    "train_master"
   ]
  },
  {
   "cell_type": "code",
   "execution_count": 4,
   "id": "17abf8d2",
   "metadata": {},
   "outputs": [
    {
     "data": {
      "text/plain": [
       "Index(['msno', 'is_churn', 'city_churn_avg', 'registered_via_churn_avg',\n",
       "       'avg_payment_plan_days', 'avg_plan_list_price',\n",
       "       'avg_actual_amount_paid', 'pct_is_auto_renew', 'pct_is_cancel',\n",
       "       'total_transactions', 'is_cancel', 'is_auto_renew',\n",
       "       'pay_method_id_churn_avg', 'Unnamed: 0.1', 'total_num_unq',\n",
       "       'total_total_secs', 'daily_avg_num_25', 'daily_avg_num_50',\n",
       "       'daily_avg_num_75', 'daily_avg_num_985', 'daily_avg_num_100',\n",
       "       'daily_avg_num_unq', 'daily_avg_total_secs', 'tier'],\n",
       "      dtype='object')"
      ]
     },
     "execution_count": 4,
     "metadata": {},
     "output_type": "execute_result"
    }
   ],
   "source": [
    "# drop duplicate index field\n",
    "train_master = train_master.drop(labels=['Unnamed: 0'], axis=1)\n",
    "\n",
    "train_master.columns"
   ]
  },
  {
   "cell_type": "code",
   "execution_count": 5,
   "id": "c7f0cb4f",
   "metadata": {},
   "outputs": [
    {
     "name": "stdout",
     "output_type": "stream",
     "text": [
      "<class 'pandas.core.frame.DataFrame'>\n",
      "Int64Index: 100000 entries, 15304443 to 131559\n",
      "Data columns (total 24 columns):\n",
      " #   Column                    Non-Null Count   Dtype  \n",
      "---  ------                    --------------   -----  \n",
      " 0   msno                      100000 non-null  object \n",
      " 1   is_churn                  100000 non-null  int64  \n",
      " 2   city_churn_avg            90036 non-null   float64\n",
      " 3   registered_via_churn_avg  90036 non-null   float64\n",
      " 4   avg_payment_plan_days     100000 non-null  float64\n",
      " 5   avg_plan_list_price       100000 non-null  float64\n",
      " 6   avg_actual_amount_paid    100000 non-null  float64\n",
      " 7   pct_is_auto_renew         100000 non-null  float64\n",
      " 8   pct_is_cancel             100000 non-null  float64\n",
      " 9   total_transactions        100000 non-null  int64  \n",
      " 10  is_cancel                 100000 non-null  int64  \n",
      " 11  is_auto_renew             100000 non-null  int64  \n",
      " 12  pay_method_id_churn_avg   100000 non-null  float64\n",
      " 13  Unnamed: 0.1              86305 non-null   float64\n",
      " 14  total_num_unq             86305 non-null   float64\n",
      " 15  total_total_secs          86305 non-null   float64\n",
      " 16  daily_avg_num_25          86305 non-null   float64\n",
      " 17  daily_avg_num_50          86305 non-null   float64\n",
      " 18  daily_avg_num_75          86305 non-null   float64\n",
      " 19  daily_avg_num_985         86305 non-null   float64\n",
      " 20  daily_avg_num_100         86305 non-null   float64\n",
      " 21  daily_avg_num_unq         86305 non-null   float64\n",
      " 22  daily_avg_total_secs      86305 non-null   float64\n",
      " 23  tier                      86305 non-null   object \n",
      "dtypes: float64(18), int64(4), object(2)\n",
      "memory usage: 19.1+ MB\n"
     ]
    }
   ],
   "source": [
    "# Look at the information regarding its columns.\n",
    "train_master.info()"
   ]
  },
  {
   "cell_type": "code",
   "execution_count": 6,
   "id": "f09f0d6c",
   "metadata": {},
   "outputs": [
    {
     "data": {
      "text/html": [
       "<div>\n",
       "<style scoped>\n",
       "    .dataframe tbody tr th:only-of-type {\n",
       "        vertical-align: middle;\n",
       "    }\n",
       "\n",
       "    .dataframe tbody tr th {\n",
       "        vertical-align: top;\n",
       "    }\n",
       "\n",
       "    .dataframe thead th {\n",
       "        text-align: right;\n",
       "    }\n",
       "</style>\n",
       "<table border=\"1\" class=\"dataframe\">\n",
       "  <thead>\n",
       "    <tr style=\"text-align: right;\">\n",
       "      <th></th>\n",
       "      <th>msno</th>\n",
       "      <th>is_churn</th>\n",
       "      <th>city_churn_avg</th>\n",
       "      <th>registered_via_churn_avg</th>\n",
       "      <th>avg_payment_plan_days</th>\n",
       "      <th>avg_plan_list_price</th>\n",
       "      <th>avg_actual_amount_paid</th>\n",
       "      <th>pct_is_auto_renew</th>\n",
       "      <th>pct_is_cancel</th>\n",
       "      <th>total_transactions</th>\n",
       "      <th>is_cancel</th>\n",
       "      <th>is_auto_renew</th>\n",
       "      <th>pay_method_id_churn_avg</th>\n",
       "      <th>Unnamed: 0.1</th>\n",
       "      <th>total_num_unq</th>\n",
       "      <th>total_total_secs</th>\n",
       "      <th>daily_avg_num_25</th>\n",
       "      <th>daily_avg_num_50</th>\n",
       "      <th>daily_avg_num_75</th>\n",
       "      <th>daily_avg_num_985</th>\n",
       "      <th>daily_avg_num_100</th>\n",
       "      <th>daily_avg_num_unq</th>\n",
       "      <th>daily_avg_total_secs</th>\n",
       "      <th>tier</th>\n",
       "    </tr>\n",
       "  </thead>\n",
       "  <tbody>\n",
       "  </tbody>\n",
       "</table>\n",
       "</div>"
      ],
      "text/plain": [
       "Empty DataFrame\n",
       "Columns: [msno, is_churn, city_churn_avg, registered_via_churn_avg, avg_payment_plan_days, avg_plan_list_price, avg_actual_amount_paid, pct_is_auto_renew, pct_is_cancel, total_transactions, is_cancel, is_auto_renew, pay_method_id_churn_avg, Unnamed: 0.1, total_num_unq, total_total_secs, daily_avg_num_25, daily_avg_num_50, daily_avg_num_75, daily_avg_num_985, daily_avg_num_100, daily_avg_num_unq, daily_avg_total_secs, tier]\n",
       "Index: []"
      ]
     },
     "execution_count": 6,
     "metadata": {},
     "output_type": "execute_result"
    }
   ],
   "source": [
    "# This will show us records where `train_master['is_churn']` is null.\n",
    "null_is_churn_mask = train_master['is_churn'].isnull()\n",
    "train_master[null_is_churn_mask].head()\n",
    "\n",
    "# no records without a churn record. Great."
   ]
  },
  {
   "cell_type": "code",
   "execution_count": 7,
   "id": "8f6460a9",
   "metadata": {},
   "outputs": [
    {
     "data": {
      "text/html": [
       "<div>\n",
       "<style scoped>\n",
       "    .dataframe tbody tr th:only-of-type {\n",
       "        vertical-align: middle;\n",
       "    }\n",
       "\n",
       "    .dataframe tbody tr th {\n",
       "        vertical-align: top;\n",
       "    }\n",
       "\n",
       "    .dataframe thead th {\n",
       "        text-align: right;\n",
       "    }\n",
       "</style>\n",
       "<table border=\"1\" class=\"dataframe\">\n",
       "  <thead>\n",
       "    <tr style=\"text-align: right;\">\n",
       "      <th></th>\n",
       "      <th>city_churn_avg</th>\n",
       "      <th>registered_via_churn_avg</th>\n",
       "      <th>avg_payment_plan_days</th>\n",
       "      <th>avg_plan_list_price</th>\n",
       "      <th>avg_actual_amount_paid</th>\n",
       "      <th>pct_is_auto_renew</th>\n",
       "      <th>pct_is_cancel</th>\n",
       "      <th>total_transactions</th>\n",
       "      <th>is_cancel</th>\n",
       "      <th>is_auto_renew</th>\n",
       "      <th>pay_method_id_churn_avg</th>\n",
       "      <th>Unnamed: 0.1</th>\n",
       "      <th>total_num_unq</th>\n",
       "      <th>total_total_secs</th>\n",
       "      <th>daily_avg_num_25</th>\n",
       "      <th>daily_avg_num_50</th>\n",
       "      <th>daily_avg_num_75</th>\n",
       "      <th>daily_avg_num_985</th>\n",
       "      <th>daily_avg_num_100</th>\n",
       "      <th>daily_avg_num_unq</th>\n",
       "      <th>daily_avg_total_secs</th>\n",
       "    </tr>\n",
       "    <tr>\n",
       "      <th>is_churn</th>\n",
       "      <th></th>\n",
       "      <th></th>\n",
       "      <th></th>\n",
       "      <th></th>\n",
       "      <th></th>\n",
       "      <th></th>\n",
       "      <th></th>\n",
       "      <th></th>\n",
       "      <th></th>\n",
       "      <th></th>\n",
       "      <th></th>\n",
       "      <th></th>\n",
       "      <th></th>\n",
       "      <th></th>\n",
       "      <th></th>\n",
       "      <th></th>\n",
       "      <th></th>\n",
       "      <th></th>\n",
       "      <th></th>\n",
       "      <th></th>\n",
       "      <th></th>\n",
       "    </tr>\n",
       "  </thead>\n",
       "  <tbody>\n",
       "    <tr>\n",
       "      <th>0</th>\n",
       "      <td>0.066797</td>\n",
       "      <td>0.060307</td>\n",
       "      <td>29.423108</td>\n",
       "      <td>130.132284</td>\n",
       "      <td>134.791762</td>\n",
       "      <td>0.936257</td>\n",
       "      <td>0.015907</td>\n",
       "      <td>20.393220</td>\n",
       "      <td>0.366401</td>\n",
       "      <td>19.381628</td>\n",
       "      <td>0.041349</td>\n",
       "      <td>1.508154e+06</td>\n",
       "      <td>4081.226754</td>\n",
       "      <td>2.289664e+11</td>\n",
       "      <td>5.729053</td>\n",
       "      <td>1.451835</td>\n",
       "      <td>0.888318</td>\n",
       "      <td>0.962258</td>\n",
       "      <td>25.895829</td>\n",
       "      <td>25.901078</td>\n",
       "      <td>9.195255e+08</td>\n",
       "    </tr>\n",
       "    <tr>\n",
       "      <th>1</th>\n",
       "      <td>0.070057</td>\n",
       "      <td>0.076369</td>\n",
       "      <td>34.367549</td>\n",
       "      <td>155.706092</td>\n",
       "      <td>157.819316</td>\n",
       "      <td>0.690219</td>\n",
       "      <td>0.055174</td>\n",
       "      <td>17.873793</td>\n",
       "      <td>0.953614</td>\n",
       "      <td>13.716741</td>\n",
       "      <td>0.080314</td>\n",
       "      <td>1.516638e+06</td>\n",
       "      <td>3578.570147</td>\n",
       "      <td>9.643765e+05</td>\n",
       "      <td>6.023806</td>\n",
       "      <td>1.563270</td>\n",
       "      <td>0.938258</td>\n",
       "      <td>1.022028</td>\n",
       "      <td>26.310175</td>\n",
       "      <td>26.356745</td>\n",
       "      <td>7.007491e+03</td>\n",
       "    </tr>\n",
       "  </tbody>\n",
       "</table>\n",
       "</div>"
      ],
      "text/plain": [
       "          city_churn_avg  registered_via_churn_avg  avg_payment_plan_days  \\\n",
       "is_churn                                                                    \n",
       "0               0.066797                  0.060307              29.423108   \n",
       "1               0.070057                  0.076369              34.367549   \n",
       "\n",
       "          avg_plan_list_price  avg_actual_amount_paid  pct_is_auto_renew  \\\n",
       "is_churn                                                                   \n",
       "0                  130.132284              134.791762           0.936257   \n",
       "1                  155.706092              157.819316           0.690219   \n",
       "\n",
       "          pct_is_cancel  total_transactions  is_cancel  is_auto_renew  \\\n",
       "is_churn                                                                \n",
       "0              0.015907           20.393220   0.366401      19.381628   \n",
       "1              0.055174           17.873793   0.953614      13.716741   \n",
       "\n",
       "          pay_method_id_churn_avg  Unnamed: 0.1  total_num_unq  \\\n",
       "is_churn                                                         \n",
       "0                        0.041349  1.508154e+06    4081.226754   \n",
       "1                        0.080314  1.516638e+06    3578.570147   \n",
       "\n",
       "          total_total_secs  daily_avg_num_25  daily_avg_num_50  \\\n",
       "is_churn                                                         \n",
       "0             2.289664e+11          5.729053          1.451835   \n",
       "1             9.643765e+05          6.023806          1.563270   \n",
       "\n",
       "          daily_avg_num_75  daily_avg_num_985  daily_avg_num_100  \\\n",
       "is_churn                                                           \n",
       "0                 0.888318           0.962258          25.895829   \n",
       "1                 0.938258           1.022028          26.310175   \n",
       "\n",
       "          daily_avg_num_unq  daily_avg_total_secs  \n",
       "is_churn                                           \n",
       "0                 25.901078          9.195255e+08  \n",
       "1                 26.356745          7.007491e+03  "
      ]
     },
     "execution_count": 7,
     "metadata": {},
     "output_type": "execute_result"
    }
   ],
   "source": [
    "# Calculate the mean fields by churn\n",
    "train_master.groupby('is_churn').mean()\n",
    "\n",
    "# in briefly scanning these averages, I can see there are some interesting things to dig into"
   ]
  },
  {
   "cell_type": "markdown",
   "id": "be4aa324",
   "metadata": {},
   "source": [
    "# Conduct EDA on aggregated features"
   ]
  },
  {
   "cell_type": "code",
   "execution_count": 8,
   "id": "6171f0bc",
   "metadata": {},
   "outputs": [
    {
     "data": {
      "image/png": "[encoded data removed]",
      "text/plain": [
       "<Figure size 432x288 with 1 Axes>"
      ]
     },
     "metadata": {
      "needs_background": "light"
     },
     "output_type": "display_data"
    }
   ],
   "source": [
    "# plot the churn rate by avg_payment_plan_days\n",
    "sns.barplot(data=train_master, x='is_churn', y='avg_payment_plan_days');\n",
    "\n",
    "# results show that for churned orders avg_payment_plan_days tends to be higher"
   ]
  },
  {
   "cell_type": "code",
   "execution_count": 9,
   "id": "a82ab08b",
   "metadata": {},
   "outputs": [
    {
     "data": {
      "image/png": "[encoded data removed]",
      "text/plain": [
       "<Figure size 432x288 with 1 Axes>"
      ]
     },
     "metadata": {
      "needs_background": "light"
     },
     "output_type": "display_data"
    }
   ],
   "source": [
    "# plot the churn rate by avg_plan_list_price\n",
    "sns.barplot(data=train_master, x='is_churn', y='avg_plan_list_price');\n",
    "\n",
    "# results show that for churned orders avg_plan_list_price tends to be higher"
   ]
  },
  {
   "cell_type": "code",
   "execution_count": 10,
   "id": "d36e1a90",
   "metadata": {},
   "outputs": [
    {
     "data": {
      "image/png": "[encoded data removed]",
      "text/plain": [
       "<Figure size 432x288 with 1 Axes>"
      ]
     },
     "metadata": {
      "needs_background": "light"
     },
     "output_type": "display_data"
    }
   ],
   "source": [
    "# plot the churn rate by avg_actual_amount_paid\n",
    "sns.barplot(data=train_master, x='is_churn', y='avg_actual_amount_paid');\n",
    "\n",
    "# results show that for churned orders avg_actual_amount_paid tends to be higher"
   ]
  },
  {
   "cell_type": "code",
   "execution_count": 11,
   "id": "d54134a6",
   "metadata": {},
   "outputs": [
    {
     "name": "stdout",
     "output_type": "stream",
     "text": [
      "Pearsons correlation: 0.964\n"
     ]
    }
   ],
   "source": [
    "from scipy.stats import pearsonr\n",
    "corr, _ = pearsonr(train_master['avg_actual_amount_paid'], train_master['avg_plan_list_price'])\n",
    "print('Pearsons correlation: %.3f' % corr)\n",
    "\n",
    "# I'm going to omit this feature 'avg_actual_amount_paid' in the model because it's correlated with the above feature 'avg_plan_list_price'"
   ]
  },
  {
   "cell_type": "code",
   "execution_count": 12,
   "id": "95098732",
   "metadata": {},
   "outputs": [
    {
     "data": {
      "image/png": "[encoded data removed]",
      "text/plain": [
       "<Figure size 432x288 with 1 Axes>"
      ]
     },
     "metadata": {
      "needs_background": "light"
     },
     "output_type": "display_data"
    }
   ],
   "source": [
    "# plot the churn rate by pct_is_auto_renew\n",
    "sns.barplot(data=train_master, x='is_churn', y='pct_is_auto_renew');\n",
    "\n",
    "# results show that for churned orders pct_is_auto_renew tends to be much lower"
   ]
  },
  {
   "cell_type": "code",
   "execution_count": 13,
   "id": "89d0f407",
   "metadata": {},
   "outputs": [
    {
     "data": {
      "image/png": "[encoded data removed]",
      "text/plain": [
       "<Figure size 432x288 with 1 Axes>"
      ]
     },
     "metadata": {
      "needs_background": "light"
     },
     "output_type": "display_data"
    }
   ],
   "source": [
    "# plot the churn rate by pct_is_cancel\n",
    "sns.barplot(data=train_master, x='is_churn', y='pct_is_cancel');\n",
    "\n",
    "# results show that for churned orders pct_is_cancel tends to be higher\n",
    "\n",
    "# drill down deeper. \n",
    "# load only a subset of the dataframe with random sampling\n",
    "# check the competition site for measuring the model"
   ]
  },
  {
   "cell_type": "code",
   "execution_count": 28,
   "id": "976d2c25",
   "metadata": {},
   "outputs": [
    {
     "name": "stdout",
     "output_type": "stream",
     "text": [
      "tier\n",
      "25_50        0.007777\n",
      "50_75        0.020778\n",
      "bottom_25    0.006112\n",
      "top_75       0.023115\n",
      "Name: is_churn, dtype: float64\n",
      "is_churn\n",
      "0    0.015907\n",
      "1    0.055174\n",
      "Name: pct_is_cancel, dtype: float64\n"
     ]
    }
   ],
   "source": [
    "mask = train_master['pct_is_cancel']<=0.015907\n",
    "\n",
    "print (train_master[mask].groupby(['tier'])['is_churn'].mean())\n",
    "print (train_master.groupby(['is_churn'])['pct_is_cancel'].mean())"
   ]
  },
  {
   "cell_type": "code",
   "execution_count": 29,
   "id": "9ae0aec6",
   "metadata": {},
   "outputs": [
    {
     "data": {
      "image/png": "[encoded data removed]",
      "text/plain": [
       "<Figure size 432x288 with 1 Axes>"
      ]
     },
     "metadata": {
      "needs_background": "light"
     },
     "output_type": "display_data"
    }
   ],
   "source": [
    "sns.barplot(data=train_master[mask], x='is_churn', y='tier');\n"
   ]
  },
  {
   "cell_type": "code",
   "execution_count": 40,
   "id": "dc6938d8",
   "metadata": {},
   "outputs": [],
   "source": [
    "train_master['high_cancel_high_usage'] = np.where((train_master['pct_is_cancel']<=0.015907) \n",
    "                                                  & (train_master['pct_is_cancel'] != '50_75') \n",
    "                                                  & (train_master['pct_is_cancel'] != 'top_75'), 1,0)\n",
    "\n",
    "#df['hasimage'] = np.where(df['photos']!= '[]', True, False)\n"
   ]
  },
  {
   "cell_type": "code",
   "execution_count": 41,
   "id": "56aa3d87",
   "metadata": {},
   "outputs": [
    {
     "name": "stdout",
     "output_type": "stream",
     "text": [
      "tier\n",
      "25_50        0.044940\n",
      "50_75        0.050017\n",
      "bottom_25    0.047170\n",
      "top_75       0.039348\n",
      "Name: is_churn, dtype: float64\n"
     ]
    }
   ],
   "source": [
    "print (train_master.groupby(['tier'])['is_churn'].mean())"
   ]
  },
  {
   "cell_type": "code",
   "execution_count": 42,
   "id": "fb1c081e",
   "metadata": {},
   "outputs": [
    {
     "name": "stdout",
     "output_type": "stream",
     "text": [
      "tier       is_churn\n",
      "25_50      0           0.991000\n",
      "           1           0.853374\n",
      "50_75      0           0.953085\n",
      "           1           0.702429\n",
      "bottom_25  0           0.998848\n",
      "           1           0.921005\n",
      "top_75     0           0.910898\n",
      "           1           0.603548\n",
      "Name: pct_is_auto_renew, dtype: float64\n"
     ]
    }
   ],
   "source": [
    "print (train_master.groupby(['tier','is_churn'])['pct_is_auto_renew'].mean())"
   ]
  },
  {
   "cell_type": "code",
   "execution_count": 43,
   "id": "c31a310f",
   "metadata": {},
   "outputs": [
    {
     "data": {
      "image/png": "[encoded data removed]",
      "text/plain": [
       "<Figure size 432x288 with 1 Axes>"
      ]
     },
     "metadata": {
      "needs_background": "light"
     },
     "output_type": "display_data"
    }
   ],
   "source": [
    "# plot the churn rate by total_transactions\n",
    "sns.barplot(data=train_master, x='is_churn', y='total_transactions');\n",
    "\n",
    "# results show that for churned orders total_transactions tends to be lower"
   ]
  },
  {
   "cell_type": "code",
   "execution_count": 44,
   "id": "8b89b13c",
   "metadata": {},
   "outputs": [
    {
     "data": {
      "image/png": "[encoded data removed]",
      "text/plain": [
       "<Figure size 432x288 with 1 Axes>"
      ]
     },
     "metadata": {
      "needs_background": "light"
     },
     "output_type": "display_data"
    }
   ],
   "source": [
    "# plot the churn rate by total_num_unq\n",
    "sns.barplot(data=train_master, x='is_churn', y='total_num_unq');\n",
    "\n",
    "# results show that for churned orders total_num_unq tends to be lower"
   ]
  },
  {
   "cell_type": "code",
   "execution_count": 45,
   "id": "88fe797f",
   "metadata": {},
   "outputs": [
    {
     "data": {
      "image/png": "[encoded data removed]",
      "text/plain": [
       "<Figure size 432x288 with 1 Axes>"
      ]
     },
     "metadata": {
      "needs_background": "light"
     },
     "output_type": "display_data"
    }
   ],
   "source": [
    "# plot the churn rate by total_total_secs\n",
    "sns.barplot(data=train_master, x='is_churn', y='total_total_secs');\n",
    "\n",
    "# these results look odd - need to investigate why there are negative seconds.\n",
    "# edit: looks like removing the negative records fixed the issue.\n",
    "# churn rate differs by seconds listened"
   ]
  },
  {
   "cell_type": "code",
   "execution_count": 46,
   "id": "30e9815b",
   "metadata": {},
   "outputs": [
    {
     "data": {
      "image/png": "[encoded data removed]",
      "text/plain": [
       "<Figure size 432x288 with 1 Axes>"
      ]
     },
     "metadata": {
      "needs_background": "light"
     },
     "output_type": "display_data"
    }
   ],
   "source": [
    "# plot the churn rate by daily_avg_num_25\n",
    "sns.barplot(data=train_master, x='is_churn', y='daily_avg_num_25');\n",
    "\n",
    "# results show that for churned orders daily_avg_num_25 tends to be higher, but only slightly"
   ]
  },
  {
   "cell_type": "code",
   "execution_count": 47,
   "id": "4108ce4a",
   "metadata": {},
   "outputs": [
    {
     "data": {
      "image/png": "[encoded data removed]",
      "text/plain": [
       "<Figure size 432x288 with 1 Axes>"
      ]
     },
     "metadata": {
      "needs_background": "light"
     },
     "output_type": "display_data"
    }
   ],
   "source": [
    "# plot the churn rate by daily_avg_num_50\n",
    "sns.barplot(data=train_master, x='is_churn', y='daily_avg_num_50');\n",
    "\n",
    "# results show that for churned orders daily_avg_num_50 tends to be higher"
   ]
  },
  {
   "cell_type": "code",
   "execution_count": 48,
   "id": "2296c8e1",
   "metadata": {},
   "outputs": [
    {
     "data": {
      "image/png": "[encoded data removed]",
      "text/plain": [
       "<Figure size 432x288 with 1 Axes>"
      ]
     },
     "metadata": {
      "needs_background": "light"
     },
     "output_type": "display_data"
    }
   ],
   "source": [
    "# plot the churn rate by daily_avg_num_75\n",
    "sns.barplot(data=train_master, x='is_churn', y='daily_avg_num_75');\n",
    "\n",
    "# results show that for churned orders daily_avg_num_75 tends to be higher"
   ]
  },
  {
   "cell_type": "code",
   "execution_count": 49,
   "id": "1f4b7ab6",
   "metadata": {},
   "outputs": [
    {
     "data": {
      "image/png": "[encoded data removed]",
      "text/plain": [
       "<Figure size 432x288 with 1 Axes>"
      ]
     },
     "metadata": {
      "needs_background": "light"
     },
     "output_type": "display_data"
    }
   ],
   "source": [
    "# plot the churn rate by daily_avg_num_985\n",
    "sns.barplot(data=train_master, x='is_churn', y='daily_avg_num_985');\n",
    "\n",
    "# results show that for churned orders daily_avg_num_985 tends to be higher\n",
    "\n",
    "# for simplicity, I'm going to only use one of these daily average features for the model,\n",
    "# as these features are highly correlated"
   ]
  },
  {
   "cell_type": "code",
   "execution_count": 50,
   "id": "7476c829",
   "metadata": {},
   "outputs": [
    {
     "data": {
      "image/png": "[encoded data removed]",
      "text/plain": [
       "<Figure size 432x288 with 1 Axes>"
      ]
     },
     "metadata": {
      "needs_background": "light"
     },
     "output_type": "display_data"
    }
   ],
   "source": [
    "# plot the churn rate by daily_avg_num_100\n",
    "sns.barplot(data=train_master, x='is_churn', y='daily_avg_num_100');\n",
    "\n",
    "# results show that there are no differences in churn by the avg number of songs played 100%"
   ]
  },
  {
   "cell_type": "code",
   "execution_count": 51,
   "id": "87c178bc",
   "metadata": {},
   "outputs": [
    {
     "data": {
      "image/png": "[encoded data removed]",
      "text/plain": [
       "<Figure size 432x288 with 1 Axes>"
      ]
     },
     "metadata": {
      "needs_background": "light"
     },
     "output_type": "display_data"
    }
   ],
   "source": [
    "# plot the churn rate by daily_avg_num_unq\n",
    "sns.barplot(data=train_master, x='is_churn', y='daily_avg_num_unq');\n",
    "\n",
    "# results show that there are no material differences in churn by the daily_avg_num_unq"
   ]
  },
  {
   "cell_type": "code",
   "execution_count": 52,
   "id": "56feb09b",
   "metadata": {},
   "outputs": [
    {
     "data": {
      "image/png": "[encoded data removed]",
      "text/plain": [
       "<Figure size 432x288 with 1 Axes>"
      ]
     },
     "metadata": {
      "needs_background": "light"
     },
     "output_type": "display_data"
    }
   ],
   "source": [
    "# plot the churn rate by daily_avg_total_secs\n",
    "sns.barplot(data=train_master, x='is_churn', y='daily_avg_total_secs');\n",
    "\n",
    "# these results look odd - need to investigate why there are negative seconds."
   ]
  },
  {
   "cell_type": "code",
   "execution_count": 53,
   "id": "db953cb9",
   "metadata": {},
   "outputs": [],
   "source": [
    "train_master.to_csv(path_or_buf='./train_master.csv')\n"
   ]
  },
  {
   "cell_type": "code",
   "execution_count": 54,
   "id": "73b89a39",
   "metadata": {},
   "outputs": [
    {
     "name": "stdout",
     "output_type": "stream",
     "text": [
      "<class 'pandas.core.frame.DataFrame'>\n",
      "Int64Index: 100000 entries, 15304443 to 131559\n",
      "Data columns (total 25 columns):\n",
      " #   Column                    Non-Null Count   Dtype  \n",
      "---  ------                    --------------   -----  \n",
      " 0   msno                      100000 non-null  object \n",
      " 1   is_churn                  100000 non-null  int64  \n",
      " 2   city_churn_avg            90036 non-null   float64\n",
      " 3   registered_via_churn_avg  90036 non-null   float64\n",
      " 4   avg_payment_plan_days     100000 non-null  float64\n",
      " 5   avg_plan_list_price       100000 non-null  float64\n",
      " 6   avg_actual_amount_paid    100000 non-null  float64\n",
      " 7   pct_is_auto_renew         100000 non-null  float64\n",
      " 8   pct_is_cancel             100000 non-null  float64\n",
      " 9   total_transactions        100000 non-null  int64  \n",
      " 10  is_cancel                 100000 non-null  int64  \n",
      " 11  is_auto_renew             100000 non-null  int64  \n",
      " 12  pay_method_id_churn_avg   100000 non-null  float64\n",
      " 13  Unnamed: 0.1              86305 non-null   float64\n",
      " 14  total_num_unq             86305 non-null   float64\n",
      " 15  total_total_secs          86305 non-null   float64\n",
      " 16  daily_avg_num_25          86305 non-null   float64\n",
      " 17  daily_avg_num_50          86305 non-null   float64\n",
      " 18  daily_avg_num_75          86305 non-null   float64\n",
      " 19  daily_avg_num_985         86305 non-null   float64\n",
      " 20  daily_avg_num_100         86305 non-null   float64\n",
      " 21  daily_avg_num_unq         86305 non-null   float64\n",
      " 22  daily_avg_total_secs      86305 non-null   float64\n",
      " 23  tier                      86305 non-null   object \n",
      " 24  high_cancel_high_usage    100000 non-null  int32  \n",
      "dtypes: float64(18), int32(1), int64(4), object(2)\n",
      "memory usage: 21.5+ MB\n"
     ]
    }
   ],
   "source": [
    "train_master.info()"
   ]
  },
  {
   "cell_type": "code",
   "execution_count": null,
   "id": "4d6fbe20",
   "metadata": {},
   "outputs": [],
   "source": []
  }
 ],
 "metadata": {
  "kernelspec": {
   "display_name": "Python 3",
   "language": "python",
   "name": "python3"
  },
  "language_info": {
   "codemirror_mode": {
    "name": "ipython",
    "version": 3
   },
   "file_extension": ".py",
   "mimetype": "text/x-python",
   "name": "python",
   "nbconvert_exporter": "python",
   "pygments_lexer": "ipython3",
   "version": "3.8.8"
  }
 },
 "nbformat": 4,
 "nbformat_minor": 5
}
